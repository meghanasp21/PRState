{
 "cells": [
  {
   "cell_type": "code",
   "execution_count": 1,
   "metadata": {},
   "outputs": [
    {
     "name": "stderr",
     "output_type": "stream",
     "text": [
      "Type 'citation(\"pROC\")' for a citation.\n",
      "\n",
      "\n",
      "Attaching package: ‘pROC’\n",
      "\n",
      "\n",
      "The following objects are masked from ‘package:stats’:\n",
      "\n",
      "    cov, smooth, var\n",
      "\n",
      "\n"
     ]
    }
   ],
   "source": [
    "library(pROC)"
   ]
  },
  {
   "cell_type": "markdown",
   "metadata": {},
   "source": [
    "### matched ancestry"
   ]
  },
  {
   "cell_type": "code",
   "execution_count": 18,
   "metadata": {},
   "outputs": [],
   "source": [
    "df<-read.csv(file = '../data/proc/compiled.matched.prs.ancestry.results.csv')"
   ]
  },
  {
   "cell_type": "code",
   "execution_count": 19,
   "metadata": {},
   "outputs": [
    {
     "data": {
      "text/html": [
       "<style>\n",
       ".list-inline {list-style: none; margin:0; padding: 0}\n",
       ".list-inline>li {display: inline-block}\n",
       ".list-inline>li:not(:last-child)::after {content: \"\\00b7\"; padding: 0 .5ex}\n",
       "</style>\n",
       "<ol class=list-inline><li>9066</li><li>5</li></ol>\n"
      ],
      "text/latex": [
       "\\begin{enumerate*}\n",
       "\\item 9066\n",
       "\\item 5\n",
       "\\end{enumerate*}\n"
      ],
      "text/markdown": [
       "1. 9066\n",
       "2. 5\n",
       "\n",
       "\n"
      ],
      "text/plain": [
       "[1] 9066    5"
      ]
     },
     "metadata": {},
     "output_type": "display_data"
    }
   ],
   "source": [
    "dim(df)"
   ]
  },
  {
   "cell_type": "code",
   "execution_count": 20,
   "metadata": {},
   "outputs": [
    {
     "data": {
      "text/html": [
       "<style>\n",
       ".list-inline {list-style: none; margin:0; padding: 0}\n",
       ".list-inline>li {display: inline-block}\n",
       ".list-inline>li:not(:last-child)::after {content: \"\\00b7\"; padding: 0 .5ex}\n",
       "</style>\n",
       "<ol class=list-inline><li>0</li><li>1</li><li>2</li><li>3</li><li>4</li><li>5</li><li>6</li><li>7</li><li>8</li><li>9</li></ol>\n"
      ],
      "text/latex": [
       "\\begin{enumerate*}\n",
       "\\item 0\n",
       "\\item 1\n",
       "\\item 2\n",
       "\\item 3\n",
       "\\item 4\n",
       "\\item 5\n",
       "\\item 6\n",
       "\\item 7\n",
       "\\item 8\n",
       "\\item 9\n",
       "\\end{enumerate*}\n"
      ],
      "text/markdown": [
       "1. 0\n",
       "2. 1\n",
       "3. 2\n",
       "4. 3\n",
       "5. 4\n",
       "6. 5\n",
       "7. 6\n",
       "8. 7\n",
       "9. 8\n",
       "10. 9\n",
       "\n",
       "\n"
      ],
      "text/plain": [
       " [1] 0 1 2 3 4 5 6 7 8 9"
      ]
     },
     "metadata": {},
     "output_type": "display_data"
    }
   ],
   "source": [
    "unique(df$iteration)"
   ]
  },
  {
   "cell_type": "code",
   "execution_count": 21,
   "metadata": {
    "tags": []
   },
   "outputs": [
    {
     "name": "stdout",
     "output_type": "stream",
     "text": [
      "[1] \"Genetics\"\n"
     ]
    },
    {
     "name": "stderr",
     "output_type": "stream",
     "text": [
      "Setting levels: control = 1, case = 2\n",
      "\n",
      "Setting direction: controls < cases\n",
      "\n"
     ]
    },
    {
     "name": "stdout",
     "output_type": "stream",
     "text": [
      "[1] \"raw\"\n",
      "\n",
      "Call:\n",
      "roc.default(response = df_cat[which(df_cat$method == y), ]$true,     predictor = df_cat[which(df_cat$method == y), ]$predicted,     ci = TRUE)\n",
      "\n",
      "Data: df_cat[which(df_cat$method == y), ]$predicted in 2373 controls (df_cat[which(df_cat$method == y), ]$true 1) < 2160 cases (df_cat[which(df_cat$method == y), ]$true 2).\n",
      "Area under the curve: 0.6134\n",
      "95% CI: 0.5971-0.6298 (DeLong)\n"
     ]
    },
    {
     "name": "stderr",
     "output_type": "stream",
     "text": [
      "Setting levels: control = 1, case = 2\n",
      "\n",
      "Setting direction: controls < cases\n",
      "\n",
      "Setting levels: control = 1, case = 2\n",
      "\n",
      "Setting direction: controls < cases\n",
      "\n",
      "Setting levels: control = 1, case = 2\n",
      "\n",
      "Setting direction: controls < cases\n",
      "\n",
      "Setting levels: control = 1, case = 2\n",
      "\n",
      "Setting direction: controls < cases\n",
      "\n",
      "Setting levels: control = 1, case = 2\n",
      "\n",
      "Setting direction: controls < cases\n",
      "\n",
      "Setting levels: control = 1, case = 2\n",
      "\n",
      "Setting direction: controls < cases\n",
      "\n",
      "Setting levels: control = 1, case = 2\n",
      "\n",
      "Setting direction: controls < cases\n",
      "\n",
      "Setting levels: control = 1, case = 2\n",
      "\n",
      "Setting direction: controls < cases\n",
      "\n",
      "Setting levels: control = 1, case = 2\n",
      "\n",
      "Setting direction: controls < cases\n",
      "\n",
      "Setting levels: control = 1, case = 2\n",
      "\n",
      "Setting direction: controls < cases\n",
      "\n"
     ]
    },
    {
     "name": "stdout",
     "output_type": "stream",
     "text": [
      "[1] \"FH+Age+Genetics\"\n"
     ]
    },
    {
     "name": "stderr",
     "output_type": "stream",
     "text": [
      "Setting levels: control = 1, case = 2\n",
      "\n",
      "Setting direction: controls < cases\n",
      "\n"
     ]
    },
    {
     "name": "stdout",
     "output_type": "stream",
     "text": [
      "[1] \"raw\"\n",
      "\n",
      "Call:\n",
      "roc.default(response = df_cat[which(df_cat$method == y), ]$true,     predictor = df_cat[which(df_cat$method == y), ]$predicted,     ci = TRUE)\n",
      "\n",
      "Data: df_cat[which(df_cat$method == y), ]$predicted in 2373 controls (df_cat[which(df_cat$method == y), ]$true 1) < 2160 cases (df_cat[which(df_cat$method == y), ]$true 2).\n",
      "Area under the curve: 0.6514\n",
      "95% CI: 0.6355-0.6673 (DeLong)\n"
     ]
    },
    {
     "name": "stderr",
     "output_type": "stream",
     "text": [
      "Setting levels: control = 1, case = 2\n",
      "\n",
      "Setting direction: controls < cases\n",
      "\n",
      "Setting levels: control = 1, case = 2\n",
      "\n",
      "Setting direction: controls < cases\n",
      "\n",
      "Setting levels: control = 1, case = 2\n",
      "\n",
      "Setting direction: controls < cases\n",
      "\n",
      "Setting levels: control = 1, case = 2\n",
      "\n",
      "Setting direction: controls < cases\n",
      "\n",
      "Setting levels: control = 1, case = 2\n",
      "\n",
      "Setting direction: controls < cases\n",
      "\n",
      "Setting levels: control = 1, case = 2\n",
      "\n",
      "Setting direction: controls < cases\n",
      "\n",
      "Setting levels: control = 1, case = 2\n",
      "\n",
      "Setting direction: controls < cases\n",
      "\n",
      "Setting levels: control = 1, case = 2\n",
      "\n",
      "Setting direction: controls < cases\n",
      "\n",
      "Setting levels: control = 1, case = 2\n",
      "\n",
      "Setting direction: controls < cases\n",
      "\n",
      "Setting levels: control = 1, case = 2\n",
      "\n",
      "Setting direction: controls < cases\n",
      "\n"
     ]
    }
   ],
   "source": [
    "df_results = data.frame(lower = numeric(), auc = numeric(), upper=numeric(), iter=numeric(), category=character(), method=character())\n",
    "\n",
    "for(i in unique(df$category)){\n",
    "    print(i)\n",
    "    df_cat=df[ which(df$category==i), ]\n",
    "    for(y in unique(df$method)){\n",
    "    \n",
    "    result=roc(df_cat[ which(df_cat$method==y), ]$true,df_cat[ which(df_cat$method==y), ]$predicted,ci=TRUE)\n",
    "    print(y)\n",
    "    print(result)\n",
    "    df_results=rbind(df_results,data.frame(lower=result$ci[1],auc=result$ci[2],upper=result$ci[3],category=i, method=y,iter=11))\n",
    "    \n",
    "    for(int in unique(df$iteration)){\n",
    "        df_cat_method=df_cat[ which(df_cat$method==y), ]\n",
    "        df_iter=df_cat_method[ which(df_cat_method$iteration==int), ]\n",
    "        result=roc(df_iter$true,df_iter$predicted,ci=TRUE)\n",
    "        df_results=rbind(df_results,data.frame(lower=result$ci[1],auc=result$ci[2],upper=result$ci[3],category=i, method=y,iter=int))\n",
    "    }\n",
    "    }\n",
    "}"
   ]
  },
  {
   "cell_type": "code",
   "execution_count": 22,
   "metadata": {},
   "outputs": [],
   "source": [
    "write.csv(df_results, file=\"../data/proc/pROC.compiled.matched.prs.ancestry.results.csv\")"
   ]
  },
  {
   "cell_type": "markdown",
   "metadata": {},
   "source": [
    "### mismatch ancestry"
   ]
  },
  {
   "cell_type": "code",
   "execution_count": 23,
   "metadata": {},
   "outputs": [],
   "source": [
    "df<-read.csv(file = '../data/proc/compiled.mismatched.prs.ancestry.results.csv')"
   ]
  },
  {
   "cell_type": "code",
   "execution_count": 24,
   "metadata": {},
   "outputs": [
    {
     "name": "stderr",
     "output_type": "stream",
     "text": [
      "Setting levels: control = 1, case = 2\n",
      "\n",
      "Setting direction: controls < cases\n",
      "\n",
      "Setting levels: control = 1, case = 2\n",
      "\n",
      "Setting direction: controls < cases\n",
      "\n"
     ]
    }
   ],
   "source": [
    "df_results = data.frame(lower = numeric(), auc = numeric(), upper=numeric(), category=character(), method=character())\n",
    "\n",
    "for(i in unique(df$category)){\n",
    "    df_cat=df[ which(df$category==i), ]\n",
    "    for(y in unique(df$method)){\n",
    "    \n",
    "    result=roc(df_cat[ which(df_cat$method==y), ]$true,df_cat[ which(df_cat$method==y), ]$predicted,ci=TRUE)\n",
    "    df_results=rbind(df_results,data.frame(lower=result$ci[1],auc=result$ci[2],upper=result$ci[3],category=i, method=y))\n",
    "        \n",
    "    }\n",
    "}"
   ]
  },
  {
   "cell_type": "code",
   "execution_count": 26,
   "metadata": {},
   "outputs": [],
   "source": [
    "write.csv(df_results, file=\"../data/proc/pROC.compiled.mismatched.prs.ancestry.results.csv\")"
   ]
  },
  {
   "cell_type": "markdown",
   "metadata": {},
   "source": [
    "### mixed ancestry"
   ]
  },
  {
   "cell_type": "code",
   "execution_count": 27,
   "metadata": {},
   "outputs": [],
   "source": [
    "df<-read.csv(file = '../data/proc/compiled.mixed.prs.ancestry.results.csv')"
   ]
  },
  {
   "cell_type": "code",
   "execution_count": 28,
   "metadata": {},
   "outputs": [
    {
     "name": "stderr",
     "output_type": "stream",
     "text": [
      "Setting levels: control = 1, case = 2\n",
      "\n",
      "Setting direction: controls < cases\n",
      "\n",
      "Setting levels: control = 1, case = 2\n",
      "\n",
      "Setting direction: controls < cases\n",
      "\n"
     ]
    }
   ],
   "source": [
    "df_results = data.frame(lower = numeric(), auc = numeric(), upper=numeric(), category=character(), method=character())\n",
    "\n",
    "for(i in unique(df$category)){\n",
    "    df_cat=df[ which(df$category==i), ]\n",
    "    for(y in unique(df$method)){\n",
    "    \n",
    "    result=roc(df_cat[ which(df_cat$method==y), ]$true,df_cat[ which(df_cat$method==y), ]$predicted,ci=TRUE)\n",
    "    df_results=rbind(df_results,data.frame(lower=result$ci[1],auc=result$ci[2],upper=result$ci[3],category=i, method=y))\n",
    "        \n",
    "    }\n",
    "}"
   ]
  },
  {
   "cell_type": "code",
   "execution_count": 29,
   "metadata": {},
   "outputs": [],
   "source": [
    "write.csv(df_results, file=\"../data/proc/pROC.compiled.mixed.prs.ancestry.results.csv\")"
   ]
  },
  {
   "cell_type": "markdown",
   "metadata": {},
   "source": [
    "### conti "
   ]
  },
  {
   "cell_type": "code",
   "execution_count": 3,
   "metadata": {},
   "outputs": [],
   "source": [
    "df<-read.csv(file = '../data/compiled.matched.prs.ancestry.conti.results.csv')"
   ]
  },
  {
   "cell_type": "code",
   "execution_count": 4,
   "metadata": {},
   "outputs": [
    {
     "name": "stderr",
     "output_type": "stream",
     "text": [
      "Setting levels: control = 1, case = 2\n",
      "\n",
      "Setting direction: controls < cases\n",
      "\n",
      "Setting levels: control = 1, case = 2\n",
      "\n",
      "Setting direction: controls < cases\n",
      "\n"
     ]
    }
   ],
   "source": [
    "df_results = data.frame(lower = numeric(), auc = numeric(), upper=numeric(), category=character(), method=character())\n",
    "\n",
    "for(i in unique(df$category)){\n",
    "    df_cat=df[ which(df$category==i), ]\n",
    "    for(y in unique(df$method)){\n",
    "    \n",
    "    result=roc(df_cat[ which(df_cat$method==y), ]$true,df_cat[ which(df_cat$method==y), ]$predicted,ci=TRUE)\n",
    "    df_results=rbind(df_results,data.frame(lower=result$ci[1],auc=result$ci[2],upper=result$ci[3],category=i, method=y))\n",
    "        \n",
    "    }\n",
    "}"
   ]
  },
  {
   "cell_type": "code",
   "execution_count": 5,
   "metadata": {},
   "outputs": [],
   "source": [
    "write.csv(df_results, file=\"pROC.compiled.matched.prs.ancestry.conti.results.csv\")"
   ]
  },
  {
   "cell_type": "code",
   "execution_count": 6,
   "metadata": {},
   "outputs": [
    {
     "data": {
      "text/html": [
       "<table class=\"dataframe\">\n",
       "<caption>A data.frame: 2 × 5</caption>\n",
       "<thead>\n",
       "\t<tr><th scope=col>lower</th><th scope=col>auc</th><th scope=col>upper</th><th scope=col>category</th><th scope=col>method</th></tr>\n",
       "\t<tr><th scope=col>&lt;dbl&gt;</th><th scope=col>&lt;dbl&gt;</th><th scope=col>&lt;dbl&gt;</th><th scope=col>&lt;fct&gt;</th><th scope=col>&lt;fct&gt;</th></tr>\n",
       "</thead>\n",
       "<tbody>\n",
       "\t<tr><td>0.6620419</td><td>0.6775035</td><td>0.6929651</td><td>Genetics       </td><td>raw</td></tr>\n",
       "\t<tr><td>0.6856820</td><td>0.7007388</td><td>0.7157957</td><td>FH+Age+Genetics</td><td>raw</td></tr>\n",
       "</tbody>\n",
       "</table>\n"
      ],
      "text/latex": [
       "A data.frame: 2 × 5\n",
       "\\begin{tabular}{lllll}\n",
       " lower & auc & upper & category & method\\\\\n",
       " <dbl> & <dbl> & <dbl> & <fct> & <fct>\\\\\n",
       "\\hline\n",
       "\t 0.6620419 & 0.6775035 & 0.6929651 & Genetics        & raw\\\\\n",
       "\t 0.6856820 & 0.7007388 & 0.7157957 & FH+Age+Genetics & raw\\\\\n",
       "\\end{tabular}\n"
      ],
      "text/markdown": [
       "\n",
       "A data.frame: 2 × 5\n",
       "\n",
       "| lower &lt;dbl&gt; | auc &lt;dbl&gt; | upper &lt;dbl&gt; | category &lt;fct&gt; | method &lt;fct&gt; |\n",
       "|---|---|---|---|---|\n",
       "| 0.6620419 | 0.6775035 | 0.6929651 | Genetics        | raw |\n",
       "| 0.6856820 | 0.7007388 | 0.7157957 | FH+Age+Genetics | raw |\n",
       "\n"
      ],
      "text/plain": [
       "  lower     auc       upper     category        method\n",
       "1 0.6620419 0.6775035 0.6929651 Genetics        raw   \n",
       "2 0.6856820 0.7007388 0.7157957 FH+Age+Genetics raw   "
      ]
     },
     "metadata": {},
     "output_type": "display_data"
    }
   ],
   "source": [
    "df_results"
   ]
  },
  {
   "cell_type": "code",
   "execution_count": 10,
   "metadata": {},
   "outputs": [],
   "source": [
    "df<-read.csv(file = '../data/compiled.matched.prs.ancestry.conti.only.results.csv')"
   ]
  },
  {
   "cell_type": "code",
   "execution_count": 11,
   "metadata": {},
   "outputs": [
    {
     "name": "stderr",
     "output_type": "stream",
     "text": [
      "Setting levels: control = 1, case = 2\n",
      "\n",
      "Setting direction: controls < cases\n",
      "\n",
      "Setting levels: control = 1, case = 2\n",
      "\n",
      "Setting direction: controls < cases\n",
      "\n"
     ]
    }
   ],
   "source": [
    "df_results = data.frame(lower = numeric(), auc = numeric(), upper=numeric(), category=character(), method=character())\n",
    "\n",
    "for(i in unique(df$category)){\n",
    "    df_cat=df[ which(df$category==i), ]\n",
    "    for(y in unique(df$method)){\n",
    "    \n",
    "    result=roc(df_cat[ which(df_cat$method==y), ]$true,df_cat[ which(df_cat$method==y), ]$predicted,ci=TRUE)\n",
    "    df_results=rbind(df_results,data.frame(lower=result$ci[1],auc=result$ci[2],upper=result$ci[3],category=i, method=y))\n",
    "        \n",
    "    }\n",
    "}"
   ]
  },
  {
   "cell_type": "code",
   "execution_count": 12,
   "metadata": {},
   "outputs": [],
   "source": [
    "write.csv(df_results, file=\"pROC.compiled.matched.prs.ancestry.conti.only.results.csv\")"
   ]
  },
  {
   "cell_type": "markdown",
   "metadata": {},
   "source": [
    "### conti logreg"
   ]
  },
  {
   "cell_type": "code",
   "execution_count": 2,
   "metadata": {},
   "outputs": [],
   "source": [
    "df<-read.csv(file = '../data/proc/compiled.logreg.conti.results.csv')"
   ]
  },
  {
   "cell_type": "code",
   "execution_count": 3,
   "metadata": {},
   "outputs": [
    {
     "name": "stderr",
     "output_type": "stream",
     "text": [
      "Setting levels: control = 1, case = 2\n",
      "\n",
      "Setting direction: controls < cases\n",
      "\n",
      "Setting levels: control = 1, case = 2\n",
      "\n",
      "Setting direction: controls < cases\n",
      "\n",
      "Setting levels: control = 1, case = 2\n",
      "\n",
      "Setting direction: controls < cases\n",
      "\n"
     ]
    }
   ],
   "source": [
    "df_results = data.frame(lower = numeric(), auc = numeric(), upper=numeric(), category=character(), method=character())\n",
    "\n",
    "for(i in unique(df$category)){\n",
    "    df_cat=df[ which(df$category==i), ]\n",
    "    for(y in unique(df$method)){\n",
    "    \n",
    "    result=roc(df_cat[ which(df_cat$method==y), ]$true,df_cat[ which(df_cat$method==y), ]$predicted,ci=TRUE)\n",
    "    df_results=rbind(df_results,data.frame(lower=result$ci[1],auc=result$ci[2],upper=result$ci[3],category=i, method=y))\n",
    "        \n",
    "    }\n",
    "}"
   ]
  },
  {
   "cell_type": "code",
   "execution_count": 4,
   "metadata": {},
   "outputs": [],
   "source": [
    "write.csv(df_results, file=\"../data/proc/pROC.compiled.logreg.conti.results.csv\")"
   ]
  },
  {
   "cell_type": "markdown",
   "metadata": {},
   "source": [
    "### conti + FH + age logreg"
   ]
  },
  {
   "cell_type": "code",
   "execution_count": 5,
   "metadata": {},
   "outputs": [],
   "source": [
    "df<-read.csv(file = '../data/proc/compiled.logreg.conti.fh.age.results.csv')"
   ]
  },
  {
   "cell_type": "code",
   "execution_count": 6,
   "metadata": {},
   "outputs": [
    {
     "name": "stderr",
     "output_type": "stream",
     "text": [
      "Setting levels: control = 1, case = 2\n",
      "\n",
      "Setting direction: controls < cases\n",
      "\n",
      "Setting levels: control = 1, case = 2\n",
      "\n",
      "Setting direction: controls < cases\n",
      "\n",
      "Setting levels: control = 1, case = 2\n",
      "\n",
      "Setting direction: controls < cases\n",
      "\n"
     ]
    }
   ],
   "source": [
    "df_results = data.frame(lower = numeric(), auc = numeric(), upper=numeric(), category=character(), method=character())\n",
    "\n",
    "for(i in unique(df$category)){\n",
    "    df_cat=df[ which(df$category==i), ]\n",
    "    for(y in unique(df$method)){\n",
    "    \n",
    "    result=roc(df_cat[ which(df_cat$method==y), ]$true,df_cat[ which(df_cat$method==y), ]$predicted,ci=TRUE)\n",
    "    df_results=rbind(df_results,data.frame(lower=result$ci[1],auc=result$ci[2],upper=result$ci[3],category=i, method=y))\n",
    "        \n",
    "    }\n",
    "}"
   ]
  },
  {
   "cell_type": "code",
   "execution_count": 7,
   "metadata": {},
   "outputs": [],
   "source": [
    "write.csv(df_results, file='../data/proc/pROC.compiled.logreg.conti.fh.age.results.csv')"
   ]
  },
  {
   "cell_type": "code",
   "execution_count": null,
   "metadata": {},
   "outputs": [],
   "source": []
  },
  {
   "cell_type": "code",
   "execution_count": null,
   "metadata": {},
   "outputs": [],
   "source": []
  },
  {
   "cell_type": "code",
   "execution_count": null,
   "metadata": {},
   "outputs": [],
   "source": []
  }
 ],
 "metadata": {
  "kernelspec": {
   "display_name": "R r-env",
   "language": "R",
   "name": "r-env"
  },
  "language_info": {
   "codemirror_mode": "r",
   "file_extension": ".r",
   "mimetype": "text/x-r-source",
   "name": "R",
   "pygments_lexer": "r",
   "version": "3.6.2"
  }
 },
 "nbformat": 4,
 "nbformat_minor": 4
}
