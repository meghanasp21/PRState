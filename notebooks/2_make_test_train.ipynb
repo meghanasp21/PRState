{
 "cells": [
  {
   "cell_type": "code",
   "execution_count": 1,
   "metadata": {},
   "outputs": [
    {
     "name": "stdout",
     "output_type": "stream",
     "text": [
      "['/mnt/beegfs/users/mpagadal/projects/PRState/notebooks', '/cellar/users/mpagadal/Programs/miniconda3/envs/baseold/lib/python37.zip', '/cellar/users/mpagadal/Programs/miniconda3/envs/baseold/lib/python3.7', '/cellar/users/mpagadal/Programs/miniconda3/envs/baseold/lib/python3.7/lib-dynload', '', '/cellar/users/mpagadal/.local/lib/python3.7/site-packages', '/cellar/users/mpagadal/Programs/miniconda3/envs/baseold/lib/python3.7/site-packages', '/cellar/users/mpagadal/Programs/miniconda3/envs/baseold/lib/python3.7/site-packages/IPython/extensions', '/mnt/beegfs/users/mpagadal/.ipython']\n"
     ]
    }
   ],
   "source": [
    "import sys\n",
    "print(sys.path) \n",
    "sys.path.append(\"/cellar/users/mpagadal/Programs/anaconda3/lib/python3.7/site-packages\")"
   ]
  },
  {
   "cell_type": "code",
   "execution_count": 2,
   "metadata": {},
   "outputs": [],
   "source": [
    "import pandas as pd\n",
    "import numpy as np\n",
    "from sklearn.model_selection import train_test_split\n",
    "import os"
   ]
  },
  {
   "cell_type": "markdown",
   "metadata": {},
   "source": [
    "## Make 80/20 train/test splits"
   ]
  },
  {
   "cell_type": "code",
   "execution_count": 5,
   "metadata": {},
   "outputs": [],
   "source": [
    "def make_split(pheno_file,file,size):\n",
    "    #get phenotype mapping\n",
    "    pheno=pd.read_csv(pheno_file,header=None,delimiter=\"\\t\")\n",
    "    mp_pheno=dict(zip(pheno[1],pheno[2]))\n",
    "    #get patients\n",
    "    df=pd.read_csv(file,header=None,delimiter=\"\\t\")\n",
    "    df[\"pheno\"]=df[1].map(mp_pheno)\n",
    "    #make X,y\n",
    "    X=np.array(df[1])\n",
    "    y=np.array(df[\"pheno\"])\n",
    "    \n",
    "    X_train, X_test, y_train, y_test = train_test_split(X, y, test_size=size)\n",
    "    \n",
    "    return(X_train,X_test)"
   ]
  },
  {
   "cell_type": "markdown",
   "metadata": {},
   "source": [
    "### African ancestry group"
   ]
  },
  {
   "cell_type": "code",
   "execution_count": 7,
   "metadata": {},
   "outputs": [],
   "source": [
    "# for i in range(10):\n",
    "#     train,test=make_split(\"/nrnb/users/mpagadal/oncoarray/phenotypes/pheno_affection_status.txt\",\"/cellar/users/mpagadal/Data2/projects/PRState/patients/african.cohort.txt\",0.2)\n",
    "#     train=pd.DataFrame({\"FID\":0,\"IID\":train}).to_csv(\"../patients/test_train/african.80.\"+str(i)+\".train.txt\",header=None,index=None,sep=\"\\t\")\n",
    "#     test=pd.DataFrame({\"FID\":0,\"IID\":test}).to_csv(\"../patients/test_train/african.20.\"+str(i)+\".test.txt\",header=None,index=None,sep=\"\\t\")\n",
    "    "
   ]
  },
  {
   "cell_type": "markdown",
   "metadata": {},
   "source": [
    "### European ancestry group"
   ]
  },
  {
   "cell_type": "code",
   "execution_count": 9,
   "metadata": {},
   "outputs": [],
   "source": [
    "# for i in range(10):\n",
    "#     train,test=make_split(\"/nrnb/users/mpagadal/oncoarray/phenotypes/pheno_affection_status.txt\",\"/cellar/users/mpagadal/Data2/projects/PRState/patients/european.cohort.txt\",0.2)\n",
    "#     train=pd.DataFrame({\"FID\":0,\"IID\":train}).to_csv(\"../patients/test_train/european.80.\"+str(i)+\".train.txt\",header=None,index=None,sep=\"\\t\")\n",
    "#     test=pd.DataFrame({\"FID\":0,\"IID\":test}).to_csv(\"../patients/test_train/european.20.\"+str(i)+\".test.txt\",header=None,index=None,sep=\"\\t\")\n",
    "    "
   ]
  },
  {
   "cell_type": "markdown",
   "metadata": {},
   "source": [
    "### Trans-ancestry grou"
   ]
  },
  {
   "cell_type": "code",
   "execution_count": 10,
   "metadata": {},
   "outputs": [],
   "source": [
    "eur=pd.read_csv(\"../patients/all/european.cohort.txt\",header=None,delimiter=\"\\t\")\n",
    "afr=pd.read_csv(\"../patients/all/african.cohort.txt\",header=None,delimiter=\"\\t\")"
   ]
  },
  {
   "cell_type": "code",
   "execution_count": 11,
   "metadata": {},
   "outputs": [],
   "source": [
    "both=eur.append(afr)"
   ]
  },
  {
   "cell_type": "code",
   "execution_count": 12,
   "metadata": {},
   "outputs": [],
   "source": [
    "both.to_csv(\"../patients/all/european.african.cohort.txt\",header=None,sep=\"\\t\",index=None)"
   ]
  },
  {
   "cell_type": "code",
   "execution_count": 18,
   "metadata": {},
   "outputs": [],
   "source": [
    "for i in range(10):\n",
    "    train,test=make_split(\"/nrnb/users/mpagadal/oncoarray/phenotypes/pheno_affection_status.txt\",\"../patients/all/european.african.cohort.txt\",0.2)\n",
    "    train=pd.DataFrame({\"FID\":0,\"IID\":train}).to_csv(\"../patients/test_train/european.african.80.\"+str(i)+\".train.txt\",header=None,index=None,sep=\"\\t\")\n",
    "    test=pd.DataFrame({\"FID\":0,\"IID\":test}).to_csv(\"../patients/test_train/european.african.20.\"+str(i)+\".test.txt\",header=None,index=None,sep=\"\\t\")\n",
    "    "
   ]
  },
  {
   "cell_type": "code",
   "execution_count": 17,
   "metadata": {},
   "outputs": [],
   "source": [
    "files=[x for x in os.listdir(\"../patients/test_train/\") if \"european.african\" in x]"
   ]
  },
  {
   "cell_type": "code",
   "execution_count": 18,
   "metadata": {},
   "outputs": [],
   "source": [
    "files=[x for x in files if \"test\" in x]"
   ]
  },
  {
   "cell_type": "code",
   "execution_count": 17,
   "metadata": {},
   "outputs": [
    {
     "name": "stdout",
     "output_type": "stream",
     "text": [
      "european.african.20.1.test.txt\n",
      "european.african.20.6.test.txt\n",
      "european.african.20.9.test.txt\n",
      "european.african.20.0.test.txt\n",
      "european.african.20.8.test.txt\n",
      "european.african.20.7.test.txt\n",
      "european.african.20.4.test.txt\n",
      "european.african.20.3.test.txt\n",
      "european.african.20.5.test.txt\n",
      "european.african.20.2.test.txt\n"
     ]
    }
   ],
   "source": [
    "for x in files:\n",
    "    df=pd.read_csv(\"../patients/test_train/\"+x,header=None,delimiter=\"\\t\")\n",
    "    df[df[1].isin(afr[1].tolist())].to_csv(\"/cellar/users/mpagadal/Data2/projects/PRState/patients/test_train/\"+x.split(\".test\")[0]+\".afr.test.txt\",header=None,index=None,sep=\"\\t\")\n",
    "    df[df[1].isin(eur[1].tolist())].to_csv(\"/cellar/users/mpagadal/Data2/projects/PRState/patients/test_train/\"+x.split(\".test\")[0]+\".eur.test.txt\",header=None,index=None,sep=\"\\t\")\n",
    "    print(x)"
   ]
  }
 ],
 "metadata": {
  "kernelspec": {
   "display_name": "Python baseold",
   "language": "python",
   "name": "baseold"
  },
  "language_info": {
   "codemirror_mode": {
    "name": "ipython",
    "version": 3
   },
   "file_extension": ".py",
   "mimetype": "text/x-python",
   "name": "python",
   "nbconvert_exporter": "python",
   "pygments_lexer": "ipython3",
   "version": "3.7.3"
  }
 },
 "nbformat": 4,
 "nbformat_minor": 4
}
